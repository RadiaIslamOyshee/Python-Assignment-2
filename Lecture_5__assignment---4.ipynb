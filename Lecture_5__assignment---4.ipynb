{
 "cells": [
  {
   "cell_type": "markdown",
   "metadata": {},
   "source": [
    "# 4. Recall that, given a string s , s.index( ' x ' ) returns the index of the first x in s and an error if there is no x.\n"
   ]
  },
  {
   "cell_type": "markdown",
   "metadata": {},
   "source": [
    "# (a) Write a program that asks the user for a string and a letter. Using a while loop, the program should print the index of the first occurrence of that letter and a message if the string does not contain the letter."
   ]
  },
  {
   "cell_type": "code",
   "execution_count": null,
   "metadata": {},
   "outputs": [
    {
     "name": "stdout",
     "output_type": "stream",
     "text": [
      "Enter a String: My name is Radia\n",
      "Enter a Letter: R\n",
      "\n",
      "First occurrence of \" R \" is found at index: 11 \n",
      "\n",
      "Enter a String: I am a student\n",
      "Enter a Letter: d\n",
      "\n",
      "First occurrence of \" d \" is found at index: 10 \n",
      "\n",
      "Enter a String: Hellow\n",
      "Enter a Letter: r\n",
      "\n",
      "The String does not contain the Letter\n",
      "\n"
     ]
    }
   ],
   "source": [
    "i = 0\n",
    "while i < 5: # when condition is true \n",
    "    s = raw_input(\"Enter a String: \") # input a string\n",
    "    letter = raw_input(\"Enter a Letter: \") # input a letter\n",
    "    if letter in s: # if letter is in the string \n",
    "        find = s.index(letter) # find out the first index of the letter\n",
    "        print \"\\nFirst occurrence of \"'\"',letter,'\"'\" is found at index:\",find,\"\\n\" # print statement\n",
    "    else: # if letter is not in the string 's' \n",
    "        print \"\\nThe String does not contain the Letter\\n\"\n",
    "    i = i + 1"
   ]
  },
  {
   "cell_type": "code",
   "execution_count": null,
   "metadata": {},
   "outputs": [],
   "source": []
  }
 ],
 "metadata": {
  "kernelspec": {
   "display_name": "Python 2",
   "language": "python",
   "name": "python2"
  },
  "language_info": {
   "codemirror_mode": {
    "name": "ipython",
    "version": 2
   },
   "file_extension": ".py",
   "mimetype": "text/x-python",
   "name": "python",
   "nbconvert_exporter": "python",
   "pygments_lexer": "ipython2",
   "version": "2.7.15"
  }
 },
 "nbformat": 4,
 "nbformat_minor": 2
}
